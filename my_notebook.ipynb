{
 "cells": [
  {
   "cell_type": "code",
   "execution_count": null,
   "metadata": {},
   "outputs": [],
   "source": [
    "def user_defined_function():\n",
    "    # pretend this does datetime extraction or something\n",
    "    return \"This is a test.\"\n"
   ]
  }
 ],
 "metadata": {
  "kernelspec": {
   "display_name": "Python 3.11.1 64-bit ('3.11.1')",
   "language": "python",
   "name": "python3"
  },
  "language_info": {
   "name": "python",
   "version": "3.11.1"
  },
  "orig_nbformat": 4,
  "vscode": {
   "interpreter": {
    "hash": "a457874254866372c5bcab9b48b852d51530b9bf7643564212fe3317a454396a"
   }
  }
 },
 "nbformat": 4,
 "nbformat_minor": 2
}
